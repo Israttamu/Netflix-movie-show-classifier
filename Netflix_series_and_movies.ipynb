{
  "nbformat": 4,
  "nbformat_minor": 0,
  "metadata": {
    "colab": {
      "provenance": []
    },
    "kernelspec": {
      "name": "python3",
      "display_name": "Python 3"
    },
    "language_info": {
      "name": "python"
    }
  },
  "cells": [
    {
      "cell_type": "markdown",
      "source": [
        "# **Can we build a model that can predict whether a title is a movie or a TV show based on its features?**\n",
        "\n",
        "\n",
        "\n"
      ],
      "metadata": {
        "id": "MD5Frm05wEKi"
      }
    },
    {
      "cell_type": "code",
      "execution_count": 1,
      "metadata": {
        "id": "8SNd8LNUtYrg"
      },
      "outputs": [],
      "source": [
        "import pandas as pd\n",
        "import numpy as np\n",
        "import matplotlib.pyplot as plt\n",
        "import seaborn as sns\n",
        "\n",
        "from sklearn.model_selection import train_test_split\n",
        "from sklearn.preprocessing import StandardScaler\n",
        "from sklearn.ensemble import RandomForestClassifier  # or any other model\n",
        "from sklearn.metrics import accuracy_score, classification_report, confusion_matrix\n"
      ]
    },
    {
      "cell_type": "code",
      "source": [
        "df = pd.read_csv(\"/netflix_titles.csv\")\n",
        "print(df.head())\n",
        "print(df.info())"
      ],
      "metadata": {
        "colab": {
          "base_uri": "https://localhost:8080/"
        },
        "id": "JmXRTrpUuwys",
        "outputId": "c355a00f-0208-4fe9-a003-40aafdd021e8"
      },
      "execution_count": 4,
      "outputs": [
        {
          "output_type": "stream",
          "name": "stdout",
          "text": [
            "  show_id     type                  title         director  \\\n",
            "0      s1    Movie   Dick Johnson Is Dead  Kirsten Johnson   \n",
            "1      s2  TV Show          Blood & Water              NaN   \n",
            "2      s3  TV Show              Ganglands  Julien Leclercq   \n",
            "3      s4  TV Show  Jailbirds New Orleans              NaN   \n",
            "4      s5  TV Show           Kota Factory              NaN   \n",
            "\n",
            "                                                cast        country  \\\n",
            "0                                                NaN  United States   \n",
            "1  Ama Qamata, Khosi Ngema, Gail Mabalane, Thaban...   South Africa   \n",
            "2  Sami Bouajila, Tracy Gotoas, Samuel Jouy, Nabi...            NaN   \n",
            "3                                                NaN            NaN   \n",
            "4  Mayur More, Jitendra Kumar, Ranjan Raj, Alam K...          India   \n",
            "\n",
            "           date_added  release_year rating   duration  \\\n",
            "0  September 25, 2021          2020  PG-13     90 min   \n",
            "1  September 24, 2021          2021  TV-MA  2 Seasons   \n",
            "2  September 24, 2021          2021  TV-MA   1 Season   \n",
            "3  September 24, 2021          2021  TV-MA   1 Season   \n",
            "4  September 24, 2021          2021  TV-MA  2 Seasons   \n",
            "\n",
            "                                           listed_in  \\\n",
            "0                                      Documentaries   \n",
            "1    International TV Shows, TV Dramas, TV Mysteries   \n",
            "2  Crime TV Shows, International TV Shows, TV Act...   \n",
            "3                             Docuseries, Reality TV   \n",
            "4  International TV Shows, Romantic TV Shows, TV ...   \n",
            "\n",
            "                                         description  \n",
            "0  As her father nears the end of his life, filmm...  \n",
            "1  After crossing paths at a party, a Cape Town t...  \n",
            "2  To protect his family from a powerful drug lor...  \n",
            "3  Feuds, flirtations and toilet talk go down amo...  \n",
            "4  In a city of coaching centers known to train I...  \n",
            "<class 'pandas.core.frame.DataFrame'>\n",
            "RangeIndex: 8807 entries, 0 to 8806\n",
            "Data columns (total 12 columns):\n",
            " #   Column        Non-Null Count  Dtype \n",
            "---  ------        --------------  ----- \n",
            " 0   show_id       8807 non-null   object\n",
            " 1   type          8807 non-null   object\n",
            " 2   title         8807 non-null   object\n",
            " 3   director      6173 non-null   object\n",
            " 4   cast          7982 non-null   object\n",
            " 5   country       7976 non-null   object\n",
            " 6   date_added    8797 non-null   object\n",
            " 7   release_year  8807 non-null   int64 \n",
            " 8   rating        8803 non-null   object\n",
            " 9   duration      8804 non-null   object\n",
            " 10  listed_in     8807 non-null   object\n",
            " 11  description   8807 non-null   object\n",
            "dtypes: int64(1), object(11)\n",
            "memory usage: 825.8+ KB\n",
            "None\n"
          ]
        }
      ]
    },
    {
      "cell_type": "code",
      "source": [
        "print(df.isnull().sum())"
      ],
      "metadata": {
        "colab": {
          "base_uri": "https://localhost:8080/"
        },
        "id": "C8THBNS0vHDY",
        "outputId": "e0fe3648-bb52-4424-ab1f-bde4ac9ffd4f"
      },
      "execution_count": 5,
      "outputs": [
        {
          "output_type": "stream",
          "name": "stdout",
          "text": [
            "show_id            0\n",
            "type               0\n",
            "title              0\n",
            "director        2634\n",
            "cast             825\n",
            "country          831\n",
            "date_added        10\n",
            "release_year       0\n",
            "rating             4\n",
            "duration           3\n",
            "listed_in          0\n",
            "description        0\n",
            "dtype: int64\n"
          ]
        }
      ]
    },
    {
      "cell_type": "markdown",
      "source": [
        "# Preprocess the Data"
      ],
      "metadata": {
        "id": "aecQ18I-xG_h"
      }
    },
    {
      "cell_type": "code",
      "source": [
        "import pandas as pd\n",
        "\n",
        "# Load your dataset\n",
        "df = pd.read_csv(\"/netflix_titles.csv\")\n",
        "\n",
        "# Drop rows with missing description\n",
        "df = df.dropna(subset=['description', 'type'])\n",
        "\n",
        "# Target variable\n",
        "y = df['type']\n"
      ],
      "metadata": {
        "id": "mGB1TT0TvT7l"
      },
      "execution_count": 7,
      "outputs": []
    },
    {
      "cell_type": "markdown",
      "source": [
        "# Extract Text Features (TF-IDF from description)"
      ],
      "metadata": {
        "id": "Kbdza-NwxLPZ"
      }
    },
    {
      "cell_type": "code",
      "source": [
        "from sklearn.feature_extraction.text import TfidfVectorizer\n",
        "\n",
        "# Initialize TF-IDF Vectorizer\n",
        "tfidf = TfidfVectorizer(stop_words='english', max_features=1000)  # limit to top 1000 words\n",
        "\n",
        "# Transform the description column into TF-IDF features\n",
        "X_text = tfidf.fit_transform(df['description'])\n"
      ],
      "metadata": {
        "id": "eI6i32uwxQqU"
      },
      "execution_count": 8,
      "outputs": []
    },
    {
      "cell_type": "markdown",
      "source": [
        "# Combine TF-IDF with Other Features (optional)"
      ],
      "metadata": {
        "id": "naybP0EJxZmp"
      }
    },
    {
      "cell_type": "code",
      "source": [
        "# Process duration (as in earlier example)\n",
        "df['duration_mins'] = df['duration'].str.extract('(\\d+)').astype(float)\n",
        "df['release_year'] = df['release_year'].fillna(0)\n",
        "\n",
        "# Combine text and numeric features\n",
        "from scipy.sparse import hstack\n",
        "\n",
        "X_numeric = df[['release_year', 'duration_mins']].fillna(0)\n",
        "X_all = hstack([X_text, X_numeric])\n"
      ],
      "metadata": {
        "id": "PUjQmP_3xkXt"
      },
      "execution_count": 9,
      "outputs": []
    },
    {
      "cell_type": "markdown",
      "source": [
        "# Train the Model"
      ],
      "metadata": {
        "id": "ZkUUohwixpGT"
      }
    },
    {
      "cell_type": "code",
      "source": [
        "from sklearn.model_selection import train_test_split\n",
        "from sklearn.ensemble import RandomForestClassifier\n",
        "from sklearn.metrics import classification_report, accuracy_score\n",
        "\n",
        "X_train, X_test, y_train, y_test = train_test_split(X_all, y, test_size=0.2, random_state=42)\n",
        "\n",
        "model = RandomForestClassifier()\n",
        "model.fit(X_train, y_train)\n",
        "y_pred = model.predict(X_test)\n",
        "\n",
        "print(\"Accuracy:\", accuracy_score(y_test, y_pred))\n",
        "print(classification_report(y_test, y_pred))\n"
      ],
      "metadata": {
        "colab": {
          "base_uri": "https://localhost:8080/"
        },
        "id": "2gAc9RvJxsE6",
        "outputId": "a282c385-bc47-4476-8671-137dff02ef8e"
      },
      "execution_count": 10,
      "outputs": [
        {
          "output_type": "stream",
          "name": "stdout",
          "text": [
            "Accuracy: 0.9988649262202043\n",
            "              precision    recall  f1-score   support\n",
            "\n",
            "       Movie       1.00      1.00      1.00      1214\n",
            "     TV Show       1.00      1.00      1.00       548\n",
            "\n",
            "    accuracy                           1.00      1762\n",
            "   macro avg       1.00      1.00      1.00      1762\n",
            "weighted avg       1.00      1.00      1.00      1762\n",
            "\n"
          ]
        }
      ]
    }
  ]
}